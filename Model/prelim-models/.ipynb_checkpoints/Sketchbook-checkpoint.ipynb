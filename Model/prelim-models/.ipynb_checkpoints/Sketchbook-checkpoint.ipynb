{
 "cells": [
  {
   "cell_type": "markdown",
   "metadata": {},
   "source": [
    "### Import all needed libraries"
   ]
  },
  {
   "cell_type": "code",
   "execution_count": 18,
   "metadata": {},
   "outputs": [],
   "source": [
    "#\n",
    "# LIB IMPORTS\n",
    "#\n",
    "import os, sys\n",
    "import pandas as pd\n",
    "import numpy as np\n",
    "from tqdm import tqdm\n",
    "\n",
    "# for reading and displaying images\n",
    "from skimage.io import imread\n",
    "from skimage.transform import resize\n",
    "import matplotlib.pyplot as plt\n",
    "\n",
    "# for creating validation set\n",
    "from sklearn.model_selection import train_test_split\n",
    "\n",
    "# for evaluating the model\n",
    "from sklearn.metrics import accuracy_score\n",
    "\n",
    "# PyTorch libraries and modules\n",
    "import torch\n",
    "from torch.autograd import Variable\n",
    "from torch import optim\n",
    "import torch.nn.functional as F\n",
    "import torch.nn as nn\n",
    "from torch.nn import Linear, ReLU, CrossEntropyLoss, Sequential, Conv2d, MaxPool2d, Module, Softmax, BatchNorm2d, Dropout\n",
    "from torch.optim import Adam, SGD\n",
    "from torch.utils.data.sampler import SubsetRandomSampler\n",
    "from torch.utils.data import Dataset\n",
    "\n",
    "# torchvision for pre-trained models\n",
    "from torchvision import datasets, transforms, models\n",
    "\n",
    "# fastai\n",
    "import fastai\n",
    "from fastai.vision import *\n",
    "from fastai.metrics import error_rate\n",
    "from fastai.imports import *\n"
   ]
  },
  {
   "cell_type": "markdown",
   "metadata": {},
   "source": [
    "### Data Generation and Split\n",
    "Using functions in external scripts, prepare the data and split"
   ]
  },
  {
   "cell_type": "code",
   "execution_count": 7,
   "metadata": {},
   "outputs": [],
   "source": [
    "#\n",
    "# GENERATE DATA\n",
    "#\n",
    "# Note this part may take some time\n",
    "from dataload import *\n",
    "from denoise import *\n",
    "from normalize import *\n",
    "\n",
    "csv_files = ['batch-data/batch1_results.csv',\n",
    "             'batch-data/batch2_results.csv',\n",
    "             'batch-data/batch3_results.csv',\n",
    "             'batch-data/batch4_results.csv',\n",
    "             'batch-data/batch5_results.csv',\n",
    "             'batch-data/batch6_results.csv']\n",
    "\n",
    "column_headers = ['AssignmentStatus','Answer.set_number','WorkerId','Answer.slider_values','Answer.slider_values2']\n",
    "\n",
    "im_dict, data = make_predata(csv_files,column_headers)\n",
    "\n",
    "# Denoise and get cleaned data\n",
    "percentile = 90\n",
    "cleaned_data = outlier_denoising(im_dict, data, percentile)\n",
    "\n",
    "# X contains the image names\n",
    "Images, X, y1, y2 = format_data(cleaned_data)\n",
    "\n",
    "\n",
    "# Split the data into test and train set\n",
    "test_size = 0.2\n",
    "X_train, X_test, y1_train, y1_test = train_test_split(X, \n",
    "                                                      y1, \n",
    "                                                      test_size=test_size, \n",
    "                                                      random_state=123)\n",
    "X_train, X_test, y2_train, y2_test = train_test_split(X, \n",
    "                                                      y2, \n",
    "                                                      test_size=test_size, \n",
    "                                                      random_state=123)\n"
   ]
  },
  {
   "cell_type": "code",
   "execution_count": 19,
   "metadata": {},
   "outputs": [],
   "source": [
    "# NOTE: Beyond this point we are only trying slider 1\n",
    "\n",
    "#\n",
    "# Set up data format for regression based tl\n",
    "#\n",
    "\n"
   ]
  },
  {
   "cell_type": "code",
   "execution_count": null,
   "metadata": {},
   "outputs": [],
   "source": []
  }
 ],
 "metadata": {
  "kernelspec": {
   "display_name": "Python 3",
   "language": "python",
   "name": "python3"
  },
  "language_info": {
   "codemirror_mode": {
    "name": "ipython",
    "version": 3
   },
   "file_extension": ".py",
   "mimetype": "text/x-python",
   "name": "python",
   "nbconvert_exporter": "python",
   "pygments_lexer": "ipython3",
   "version": "3.7.3"
  }
 },
 "nbformat": 4,
 "nbformat_minor": 2
}
