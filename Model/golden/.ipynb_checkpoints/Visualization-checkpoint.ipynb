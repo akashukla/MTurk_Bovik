{
 "cells": [
  {
   "cell_type": "code",
   "execution_count": 1,
   "metadata": {},
   "outputs": [
    {
     "data": {
      "text/plain": [
       "<Figure size 640x480 with 1 Axes>"
      ]
     },
     "metadata": {},
     "output_type": "display_data"
    },
    {
     "data": {
      "text/plain": [
       "<Figure size 640x480 with 1 Axes>"
      ]
     },
     "metadata": {},
     "output_type": "display_data"
    },
    {
     "data": {
      "text/plain": [
       "<Figure size 640x480 with 1 Axes>"
      ]
     },
     "metadata": {},
     "output_type": "display_data"
    }
   ],
   "source": [
    "#\n",
    "# The purpose of this script is to \n",
    "# make it ammenable to visually \n",
    "# inspect the data from the \n",
    "# golden image study.\n",
    "#\n",
    "# Author: MK Swaminathan\n",
    "#\n",
    "\n",
    "import os, sys\n",
    "import cv2\n",
    "import urllib\n",
    "import numpy as np\n",
    "import pandas as pd\n",
    "import matplotlib as mpl\n",
    "import matplotlib.pyplot as plt\n",
    "\n",
    "# URL to IM Lib\n",
    "from golden_im import *\n",
    "\n",
    "# Import golden image data\n",
    "golden_res = pd.read_csv('./golden_results.csv')\n",
    "\n",
    "dat = np.asarray([golden_res.loc[:,'Answer.slider_values'][i].split(',') \n",
    "    for i in range(len(golden_res.loc[:,'Answer.slider_values']))])[:,:-1].astype(int)\n",
    "\n",
    "# Order by variances\n",
    "var_i = np.argsort(np.var(dat, axis=0))\n",
    "\n",
    "\n",
    "# Plot to inspect spread of data overall and expected value\n",
    "for i in range(len(dat)):\n",
    "    plt.scatter(np.arange(len(dat[0])), dat[i,var_i])\n",
    "\n",
    "plt.xticks(np.arange(len(dat[0])), var_i)\n",
    "plt.xlabel('Sorted Variance')\n",
    "plt.ylabel('Compression Param')\n",
    "plt.title('Plotting Golden Image Data by Sorted Variances')\n",
    "plt.tight_layout()\n",
    "\n",
    "plt.figure()\n",
    "\n",
    "plt.errorbar(np.arange(len(dat[0])), np.mean(dat,axis=0)[var_i], np.std(dat, axis=0)[var_i], fmt='o')\n",
    "plt.xticks(np.arange(len(dat[0])), var_i)\n",
    "plt.ylim(0,50)\n",
    "plt.xlabel('Sorted Variance')\n",
    "plt.ylabel('Compression Param')\n",
    "plt.title('Plotting Expected Value by Sorted Variance')\n",
    "plt.tight_layout()\n",
    "\n",
    "plt.figure()\n",
    "for i in range(len(dat)):\n",
    "    plt.scatter(np.arange(len(dat[0])), dat[i,var_i],marker='x')\n",
    "\n",
    "plt.errorbar(np.arange(len(dat[0])), np.mean(dat,axis=0)[var_i], 1.5*np.std(dat, axis=0)[var_i], fmt='o')\n",
    "\n",
    "plt.show()\n",
    "\n"
   ]
  },
  {
   "cell_type": "code",
   "execution_count": null,
   "metadata": {},
   "outputs": [
    {
     "name": "stdout",
     "output_type": "stream",
     "text": [
      "[27.5        28.38888889 25.83333333 25.66666667 20.38888889 25.61111111\n",
      " 23.44444444 23.44444444 23.94444444 32.33333333 31.05555556 25.83333333\n",
      " 24.33333333 25.22222222 23.88888889 23.55555556 22.05555556 23.77777778\n",
      " 23.66666667 26.27777778 24.27777778 27.22222222 23.83333333 24.33333333\n",
      " 23.33333333 24.11111111 25.27777778 25.61111111 25.61111111 24.5\n",
      " 26.44444444 22.83333333 21.16666667 23.38888889 24.11111111 23.88888889\n",
      " 23.44444444 25.         22.22222222 25.38888889 21.33333333 26.94444444\n",
      " 24.66666667 24.83333333 25.61111111 21.16666667 23.05555556 26.33333333\n",
      " 24.61111111 22.94444444 26.66666667 25.11111111 21.05555556 23.11111111\n",
      " 22.11111111 28.83333333 22.44444444 31.16666667 21.77777778 27.55555556\n",
      " 24.5        26.11111111 21.5        21.38888889 24.05555556]\n"
     ]
    }
   ],
   "source": [
    "# This cell will attempt to apply compression ratios based on the std of the golden images\n",
    "# and visualize what these results mean.\n",
    "\n",
    "import cv2\n",
    "\n",
    "outpath = 'Golden_JPEG/'\n",
    "\n",
    "g_std = np.std(dat, axis=0)\n",
    "g_mu = np.mean(dat, axis=0)\n",
    "\n",
    "print(g_mu)\n",
    "\n",
    "for index in range(len(golden_names)):\n",
    "    img = get_im(golden_names[index])\n",
    "    #cv2.imshow('hello',img)\n",
    "    #cv2.waitKey(0)\n",
    "    #cv2.destroyAllWindows()\n",
    "    img_path = outpath + golden_names[index][:-4]\n",
    "    \n",
    "    print(golden_names[index][:-4])\n",
    "    \n",
    "    print(\"writing to \" + img_path)\n",
    "    \n",
    "    #cv2.imwrite(img_path+\"_high.jpg\", img, [cv2.IMWRITE_JPEG_QUALITY, g_mu[index]+g_std[index])\n",
    "    #cv2.imwrite(img_path+\"_low.jpg\", img, [cv2.IMWRITE_JPEG_QUALITY, gu_mean[index]-g_std[index]])"
   ]
  },
  {
   "cell_type": "code",
   "execution_count": null,
   "metadata": {},
   "outputs": [],
   "source": []
  }
 ],
 "metadata": {
  "kernelspec": {
   "display_name": "Python 3",
   "language": "python",
   "name": "python3"
  },
  "language_info": {
   "codemirror_mode": {
    "name": "ipython",
    "version": 3
   },
   "file_extension": ".py",
   "mimetype": "text/x-python",
   "name": "python",
   "nbconvert_exporter": "python",
   "pygments_lexer": "ipython3",
   "version": "3.7.0"
  }
 },
 "nbformat": 4,
 "nbformat_minor": 4
}
