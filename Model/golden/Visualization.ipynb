{
 "cells": [
  {
   "cell_type": "code",
   "execution_count": 1,
   "metadata": {},
   "outputs": [
    {
     "output_type": "error",
     "ename": "ModuleNotFoundError",
     "evalue": "No module named 'cv2'",
     "traceback": [
      "\u001b[1;31m---------------------------------------------------------------------------\u001b[0m",
      "\u001b[1;31mModuleNotFoundError\u001b[0m                       Traceback (most recent call last)",
      "\u001b[1;32m<ipython-input-1-d42be24889e9>\u001b[0m in \u001b[0;36m<module>\u001b[1;34m\u001b[0m\n\u001b[0;32m      9\u001b[0m \u001b[1;33m\u001b[0m\u001b[0m\n\u001b[0;32m     10\u001b[0m \u001b[1;32mimport\u001b[0m \u001b[0mos\u001b[0m\u001b[1;33m,\u001b[0m \u001b[0msys\u001b[0m\u001b[1;33m\u001b[0m\u001b[1;33m\u001b[0m\u001b[0m\n\u001b[1;32m---> 11\u001b[1;33m \u001b[1;32mimport\u001b[0m \u001b[0mcv2\u001b[0m\u001b[1;33m\u001b[0m\u001b[1;33m\u001b[0m\u001b[0m\n\u001b[0m\u001b[0;32m     12\u001b[0m \u001b[1;32mimport\u001b[0m \u001b[0murllib\u001b[0m\u001b[1;33m\u001b[0m\u001b[1;33m\u001b[0m\u001b[0m\n\u001b[0;32m     13\u001b[0m \u001b[1;32mimport\u001b[0m \u001b[0mnumpy\u001b[0m \u001b[1;32mas\u001b[0m \u001b[0mnp\u001b[0m\u001b[1;33m\u001b[0m\u001b[1;33m\u001b[0m\u001b[0m\n",
      "\u001b[1;31mModuleNotFoundError\u001b[0m: No module named 'cv2'"
     ]
    }
   ],
   "source": [
    "#\n",
    "# The purpose of this script is to \n",
    "# make it ammenable to visually \n",
    "# inspect the data from the \n",
    "# golden image study.\n",
    "#\n",
    "# Author: MK Swaminathan\n",
    "#\n",
    "\n",
    "import os, sys\n",
    "import cv2\n",
    "import urllib\n",
    "import numpy as np\n",
    "import pandas as pd\n",
    "import matplotlib as mpl\n",
    "import matplotlib.pyplot as plt\n",
    "\n",
    "# URL to IM Lib\n",
    "from golden_im import *\n",
    "\n",
    "# Import golden image data\n",
    "golden_res = pd.read_csv('./golden_results.csv')\n",
    "\n",
    "dat = np.asarray([golden_res.loc[:,'Answer.slider_values'][i].split(',') \n",
    "    for i in range(len(golden_res.loc[:,'Answer.slider_values']))])[:,:-1].astype(int)\n",
    "\n",
    "# Order by variances\n",
    "var_i = np.argsort(np.var(dat, axis=0))\n",
    "\n",
    "\n",
    "# Plot to inspect spread of data overall and expected value\n",
    "for i in range(len(dat)):\n",
    "    plt.scatter(np.arange(len(dat[0])), dat[i,var_i])\n",
    "\n",
    "plt.xticks(np.arange(len(dat[0])), var_i)\n",
    "plt.xlabel('Sorted Variance')\n",
    "plt.ylabel('Compression Param')\n",
    "plt.title('Plotting Golden Image Data by Sorted Variances')\n",
    "plt.tight_layout()\n",
    "\n",
    "plt.figure()\n",
    "\n",
    "plt.errorbar(np.arange(len(dat[0])), np.mean(dat,axis=0)[var_i], np.std(dat, axis=0)[var_i], fmt='o')\n",
    "plt.xticks(np.arange(len(dat[0])), var_i)\n",
    "plt.ylim(0,50)\n",
    "plt.xlabel('Sorted Variance')\n",
    "plt.ylabel('Compression Param')\n",
    "plt.title('Plotting Expected Value by Sorted Variance')\n",
    "plt.tight_layout()\n",
    "\n",
    "plt.figure()\n",
    "for i in range(len(dat)):\n",
    "    plt.scatter(np.arange(len(dat[0])), dat[i,var_i],marker='x')\n",
    "\n",
    "plt.errorbar(np.arange(len(dat[0])), np.mean(dat,axis=0)[var_i], 1.5*np.std(dat, axis=0)[var_i], fmt='o')\n",
    "\n",
    "plt.show()\n",
    "\n",
    ""
   ]
  },
  {
   "cell_type": "code",
   "execution_count": null,
   "metadata": {},
   "outputs": [],
   "source": [
    "# This cell will attempt to apply compression ratios based on the std of the golden images\n",
    "# and visualize what these results mean.\n",
    "\n",
    "import cv2\n",
    "\n",
    "outpath = 'Golden_JPEG/'\n",
    "\n",
    "g_std = np.std(dat, axis=0)\n",
    "g_mu = np.mean(dat, axis=0)\n",
    "\n",
    "print(g_mu)\n",
    "\n",
    "for index in range(len(golden_names)):\n",
    "    img = get_im(golden_names[index])\n",
    "    #cv2.imshow('hello',img)\n",
    "    #cv2.waitKey(0)\n",
    "    #cv2.destroyAllWindows()\n",
    "    img_path = outpath + golden_names[index][:-4]\n",
    "    \n",
    "    print(golden_names[index][:-4])\n",
    "    \n",
    "    print(\"writing to \" + img_path)\n",
    "    \n",
    "    cv2.imwrite(img_path+\"_high.jpg\", img, [cv2.IMWRITE_JPEG_QUALITY, g_mu[index]+g_std[index]])\n",
    "    cv2.imwrite(img_path+\"_low.jpg\", img, [cv2.IMWRITE_JPEG_QUALITY, g_mu[index]-g_std[index]])"
   ]
  },
  {
   "cell_type": "code",
   "execution_count": null,
   "metadata": {},
   "outputs": [],
   "source": []
  }
 ],
 "metadata": {
  "kernelspec": {
   "display_name": "Python 3",
   "language": "python",
   "name": "python3"
  },
  "language_info": {
   "codemirror_mode": {
    "name": "ipython",
    "version": 3
   },
   "file_extension": ".py",
   "mimetype": "text/x-python",
   "name": "python",
   "nbconvert_exporter": "python",
   "pygments_lexer": "ipython3",
   "version": "3.7.6-final"
  }
 },
 "nbformat": 4,
 "nbformat_minor": 4
}